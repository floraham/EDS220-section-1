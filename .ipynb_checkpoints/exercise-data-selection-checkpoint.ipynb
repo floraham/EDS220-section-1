{
 "cells": [
  {
   "cell_type": "markdown",
   "id": "127b7a53",
   "metadata": {},
   "source": [
    "\n",
    "## citation:\n",
    "## Author: Rachel King, Jenna Braun, Michael Westphal, & CJ Lortie. (2023). Compiled occurrence records for prey items of listed species found in California drylands with associated environmental data. Knowledge Network for Biocomplexity. doi:10.5063/F1VM49RH.\n",
    "### date of access: Oct 5, 2023\n",
    "#### Archive Link: https://knb.ecoinformatics.org/view/doi%3A10.5063%2FF1VM49RH"
   ]
  },
  {
   "cell_type": "code",
   "execution_count": null,
   "id": "e13702c0",
   "metadata": {},
   "outputs": [],
   "source": []
  }
 ],
 "metadata": {
  "kernelspec": {
   "display_name": "Python 3.7.13",
   "language": "python",
   "name": "py3.7.13"
  },
  "language_info": {
   "codemirror_mode": {
    "name": "ipython",
    "version": 3
   },
   "file_extension": ".py",
   "mimetype": "text/x-python",
   "name": "python",
   "nbconvert_exporter": "python",
   "pygments_lexer": "ipython3",
   "version": "3.7.13"
  }
 },
 "nbformat": 4,
 "nbformat_minor": 5
}
